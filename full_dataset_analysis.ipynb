{
 "cells": [
  {
   "attachments": {},
   "cell_type": "markdown",
   "metadata": {},
   "source": [
    "Trying to classify heart disease data without reducing target to boolean (i.e. modeling the complete dataset)"
   ]
  },
  {
   "cell_type": "code",
   "execution_count": 1,
   "metadata": {},
   "outputs": [
    {
     "name": "stdout",
     "output_type": "stream",
     "text": [
      "<class 'pandas.core.frame.DataFrame'>\n",
      "RangeIndex: 303 entries, 0 to 302\n",
      "Data columns (total 14 columns):\n",
      " #   Column   Non-Null Count  Dtype  \n",
      "---  ------   --------------  -----  \n",
      " 0   age      303 non-null    float64\n",
      " 1   sex      303 non-null    float64\n",
      " 2   cp       303 non-null    float64\n",
      " 3   testbps  303 non-null    float64\n",
      " 4   chol     303 non-null    float64\n",
      " 5   fbs      303 non-null    float64\n",
      " 6   restecg  303 non-null    float64\n",
      " 7   thalach  303 non-null    float64\n",
      " 8   exang    303 non-null    float64\n",
      " 9   oldpeak  303 non-null    float64\n",
      " 10  slope    303 non-null    float64\n",
      " 11  ca       303 non-null    float64\n",
      " 12  thal     303 non-null    float64\n",
      " 13  num      303 non-null    int64  \n",
      "dtypes: float64(13), int64(1)\n",
      "memory usage: 33.3 KB\n"
     ]
    }
   ],
   "source": [
    "import pandas as pd\n",
    "import numpy as np\n",
    "from clean_data import HeartDisease\n",
    "\n",
    "df = HeartDisease().modeMissing()\n",
    "df.info()"
   ]
  },
  {
   "cell_type": "code",
   "execution_count": 10,
   "metadata": {},
   "outputs": [
    {
     "data": {
      "text/plain": [
       "0.639344262295082"
      ]
     },
     "execution_count": 10,
     "metadata": {},
     "output_type": "execute_result"
    }
   ],
   "source": [
    "# Split train/test sets with 20% testing and perform logistic regression\n",
    "x = df.drop(columns='num')\n",
    "y = df.num\n",
    "\n",
    "from sklearn.model_selection import train_test_split\n",
    "test_size = 0.2\n",
    "x_train, x_test, y_train, y_test = train_test_split(x, y, test_size=test_size, random_state=2)\n",
    "\n",
    "from sklearn.linear_model import LogisticRegression\n",
    "lr = LogisticRegression(solver='liblinear')\n",
    "lr.fit(x_train, y_train)\n",
    "lr.score(x_test, y_test)"
   ]
  },
  {
   "cell_type": "code",
   "execution_count": 11,
   "metadata": {},
   "outputs": [
    {
     "data": {
      "text/plain": [
       "0.6557377049180327"
      ]
     },
     "execution_count": 11,
     "metadata": {},
     "output_type": "execute_result"
    }
   ],
   "source": [
    "# Let's try xgboost\n",
    "from xgboost import XGBClassifier\n",
    "xgb = XGBClassifier(n_estimators=5)\n",
    "xgb.fit(x_train, y_train)\n",
    "xgb.score(x_test, y_test)"
   ]
  },
  {
   "cell_type": "code",
   "execution_count": 14,
   "metadata": {},
   "outputs": [
    {
     "name": "stdout",
     "output_type": "stream",
     "text": [
      "0.6721311475409836\n",
      "[[35  7  2  0  0]\n",
      " [ 0  2  0  0  1]\n",
      " [ 1  2  0  0  0]\n",
      " [ 1  2  3  4  0]\n",
      " [ 0  0  0  1  0]]\n",
      "0.6557377049180327\n",
      "[[34  6  1  0  0]\n",
      " [ 1  2  1  1  1]\n",
      " [ 0  1  2  0  0]\n",
      " [ 2  3  0  2  0]\n",
      " [ 0  1  1  2  0]]\n"
     ]
    }
   ],
   "source": [
    "# What if we scale x?\n",
    "x_scaled = HeartDisease.scaleFeatures(x)\n",
    "x_train_scaled, x_test_scaled, y_train_scaled, y_test_scaled = train_test_split(x_scaled, y, test_size=test_size, random_state=2)\n",
    "\n",
    "from sklearn.metrics import confusion_matrix\n",
    "lr.fit(x_train_scaled, y_train_scaled)\n",
    "print(lr.score(x_test_scaled, y_test_scaled))\n",
    "y_pred_lr = lr.predict(x_test_scaled)\n",
    "print(confusion_matrix(y_pred_lr, y_test_scaled))\n",
    "\n",
    "xgb.fit(x_train_scaled, y_train_scaled)\n",
    "print(xgb.score(x_test_scaled, y_test_scaled))\n",
    "y_pred_xgb = xgb.predict(x_test_scaled)\n",
    "print(confusion_matrix(y_pred_xgb, y_test_scaled))"
   ]
  },
  {
   "cell_type": "code",
   "execution_count": null,
   "metadata": {},
   "outputs": [],
   "source": []
  }
 ],
 "metadata": {
  "kernelspec": {
   "display_name": "Python 3",
   "language": "python",
   "name": "python3"
  },
  "language_info": {
   "codemirror_mode": {
    "name": "ipython",
    "version": 3
   },
   "file_extension": ".py",
   "mimetype": "text/x-python",
   "name": "python",
   "nbconvert_exporter": "python",
   "pygments_lexer": "ipython3",
   "version": "3.9.13"
  },
  "orig_nbformat": 4,
  "vscode": {
   "interpreter": {
    "hash": "aee8b7b246df8f9039afb4144a1f6fd8d2ca17a180786b69acc140d282b71a49"
   }
  }
 },
 "nbformat": 4,
 "nbformat_minor": 2
}
